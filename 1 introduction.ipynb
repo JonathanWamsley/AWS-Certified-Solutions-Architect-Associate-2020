{
 "cells": [
  {
   "cell_type": "markdown",
   "metadata": {},
   "source": [
    "# Resource\n",
    "\n",
    "Acloud guru 2020 AWS Certified Solutions Architecture "
   ]
  },
  {
   "cell_type": "markdown",
   "metadata": {},
   "source": [
    "# AWS Certified Solutions Architecture Course\n",
    "\n",
    "\n",
    "Course Overview:\n",
    "- 10,000 foot overview\n",
    "- S3 & IAM\n",
    "- EC2 & Databases\n",
    "- Route 53 & VPCs\n",
    "- HA Architecture\n",
    "- Applications & Serverless\n",
    "- Build an Alexa skill\n"
   ]
  },
  {
   "cell_type": "markdown",
   "metadata": {},
   "source": [
    "### Example Blue Print\n",
    "\n",
    "- 130 minutes\n",
    "- 65 questions\n",
    "- multiple choice\n",
    "- results are 100-1000 and passing is 720\n",
    "- qualification is valid for 3 years\n",
    "- scenario based questions\n",
    "\n",
    "Directly link:\n",
    "https://aws.amazon.com/certification/certified-solutions-architect-associate/\n",
    "\n",
    "strait forware how to schedule an exam"
   ]
  },
  {
   "cell_type": "markdown",
   "metadata": {},
   "source": [
    "### Why should i learn and get certified with aws?\n",
    "\n",
    "Best way to learn aws  is to get your hands dirty.\n",
    "\n",
    "AWS has a partner program with\n",
    "\n",
    "| Partner  | Practitioner Certs | Associate Certs | Professional/Specfialty Certs |   |\n",
    "|----------|--------------------|-----------------|-------------------------------|---|\n",
    "| Select   | 2                  | 2               | 0                             |   |\n",
    "| Advanced | 4                  | 4               | 3                             |   |\n",
    "| Premier  | 10                 | 10              | 1                             |   |\n",
    "\n",
    "the more level of certified paterners you have the higher the level of partner you can become\n",
    "\n",
    "encourages ppl to higher AWS certs over other people\n",
    "\n",
    "- Practitioner tier\n",
    "    - certified cloud practitioner\n",
    "- Associate tier\n",
    "    - solution architect\n",
    "    - developer\n",
    "    - sysops administrator\n",
    "- professional tier\n",
    "    - solution architect \n",
    "    - certified devops\n",
    "- specialty tier\n",
    "    - advanced networking\n",
    "    - Big data\n",
    "    - security\n",
    "    - machine learning\n",
    "    - alexa skill builder\n",
    "    - database\n",
    "\n",
    "dificulty scales\n",
    "\n",
    "I am interest (group by timeframe):\n",
    "- solution architect assoc\n",
    "- developer assoc\n",
    "\n",
    "- big data (Data Analytics)\n",
    "- database\n",
    "\n",
    "- machine learning\n",
    "- solution arch prof\n",
    "\n",
    "Want to get a broad overall knowledge of the platform and then specialize in the services\n",
    "\n"
   ]
  },
  {
   "cell_type": "code",
   "execution_count": null,
   "metadata": {},
   "outputs": [],
   "source": []
  }
 ],
 "metadata": {
  "kernelspec": {
   "display_name": "Python 3",
   "language": "python",
   "name": "python3"
  },
  "language_info": {
   "codemirror_mode": {
    "name": "ipython",
    "version": 3
   },
   "file_extension": ".py",
   "mimetype": "text/x-python",
   "name": "python",
   "nbconvert_exporter": "python",
   "pygments_lexer": "ipython3",
   "version": "3.7.6"
  }
 },
 "nbformat": 4,
 "nbformat_minor": 4
}
